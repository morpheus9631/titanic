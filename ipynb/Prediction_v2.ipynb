{
 "cells": [
  {
   "cell_type": "code",
   "execution_count": 2,
   "metadata": {},
   "outputs": [],
   "source": [
    "# ref: https://www.kaggle.com/pedrodematos/titanic-a-complete-approach-to-top-6-rank\n",
    "import pandas as pd"
   ]
  },
  {
   "cell_type": "code",
   "execution_count": null,
   "metadata": {},
   "outputs": [],
   "source": [
    "# Importing data and displaying some rows\n",
    "df_test = pd.read_csv(\"/kaggle/input/titanic/test.csv\")\n",
    "\n",
    "\n",
    "# Creating a categorical variable for Ages\n",
    "df_test['AgeCat'] = ''\n",
    "df_test['AgeCat'].loc[(df_test['Age'] < 18)] = 'young'\n",
    "df_test['AgeCat'].loc[(df_test['Age'] >= 18) & (df_test['Age'] < 56)] = 'mature'\n",
    "df_test['AgeCat'].loc[(df_test['Age'] >= 56)] = 'senior'\n",
    "\n",
    "\n",
    "# Creating a categorical variable for Family Sizes\n",
    "df_test['FamilySize'] = ''\n",
    "df_test['FamilySize'].loc[(df_test['SibSp'] <= 2)] = 'small'\n",
    "df_test['FamilySize'].loc[(df_test['SibSp'] > 2) & (df_test['SibSp'] <= 5 )] = 'medium'\n",
    "df_test['FamilySize'].loc[(df_test['SibSp'] > 5)] = 'large'\n",
    "\n",
    "\n",
    "# Creating a categorical variable to tell if the passenger is alone\n",
    "df_test['IsAlone'] = ''\n",
    "df_test['IsAlone'].loc[((df_test['SibSp'] + df_test['Parch']) > 0)] = 'no'\n",
    "df_test['IsAlone'].loc[((df_test['SibSp'] + df_test['Parch']) == 0)] = 'yes'\n",
    "\n",
    "# Creating a categorical variable to tell if the passenger is a Young/Mature/Senior male or a Young/Mature/Senior female\n",
    "df_test['SexCat'] = ''\n",
    "df_test['SexCat'].loc[(df_test['Sex'] == 'male') & (df_test['Age'] <= 21)] = 'youngmale'\n",
    "df_test['SexCat'].loc[(df_test['Sex'] == 'male') & ((df_test['Age'] > 21) & (df_test['Age']) < 50)] = 'maturemale'\n",
    "df_test['SexCat'].loc[(df_test['Sex'] == 'male') & (df_test['Age'] > 50)] = 'seniormale'\n",
    "df_test['SexCat'].loc[(df_test['Sex'] == 'female') & (df_test['Age'] <= 21)] = 'youngfemale'\n",
    "df_test['SexCat'].loc[(df_test['Sex'] == 'female') & ((df_test['Age'] > 21) & (df_test['Age']) < 50)] = 'maturefemale'\n",
    "df_test['SexCat'].loc[(df_test['Sex'] == 'female') & (df_test['Age'] > 50)] = 'seniorfemale'\n",
    "\n",
    "\n",
    "# Creating a categorical variable for the passenger's title\n",
    "# Title is created by extracting the prefix before \"Name\" feature\n",
    "# This title needs to be a feature because all female titles are grouped with each other\n",
    "# Also, creating a column to tell if the passenger is married or not\n",
    "# \"Is_Married\" is a binary feature based on the Mrs title. Mrs title has the highest survival rate among other female titles\n",
    "df_test['Title'] = df_test['Name'].str.split(', ', expand=True)[1].str.split('.', expand=True)[0]\n",
    "df_test['Is_Married'] = 0\n",
    "df_test['Is_Married'].loc[df['Title'] == 'Mrs'] = 1\n",
    "df_test['Title'] = df_test['Title'].replace(['Miss', 'Mrs','Ms', 'Mlle', 'Lady', 'Mme', 'the Countess', 'Dona'], 'Miss/Mrs/Ms')\n",
    "df_test['Title'] = df_test['Title'].replace(['Dr', 'Col', 'Major', 'Jonkheer', 'Capt', 'Sir', 'Don', 'Rev'], 'Dr/Military/Noble/Clergy')\n",
    "\n",
    "\n",
    "\n",
    "# Creating \"Ticket Frequency\" Feature\n",
    "# There are too many unique Ticket values to analyze, so grouping them up by their frequencies makes things easier\n",
    "df_test['Ticket_Frequency'] = df_test.groupby('Ticket')['Ticket'].transform('count')\n",
    "\n",
    "\n",
    "# Dropping unnecessary columns\n",
    "df_test.drop(['PassengerId', 'Name', 'Ticket', 'Cabin'], axis=1, inplace=True)\n"
   ]
  },
  {
   "cell_type": "code",
   "execution_count": null,
   "metadata": {},
   "outputs": [],
   "source": [
    "# Applying best_model_pipeline\n",
    "# Step 1 -> Transforming data the same way we did in the training set;\n",
    "# Step 2 -> making predictions using the best model obtained by RandomSearchCV.\n",
    "test_predictions = best_model_pipeline.predict(df_test)\n",
    "print(test_predictions)"
   ]
  },
  {
   "cell_type": "code",
   "execution_count": 1,
   "metadata": {},
   "outputs": [
    {
     "ename": "NameError",
     "evalue": "name 'pd' is not defined",
     "output_type": "error",
     "traceback": [
      "\u001b[1;31m---------------------------------------------------------------------------\u001b[0m",
      "\u001b[1;31mNameError\u001b[0m                                 Traceback (most recent call last)",
      "\u001b[1;32m<ipython-input-1-26b1200849ed>\u001b[0m in \u001b[0;36m<module>\u001b[1;34m\u001b[0m\n\u001b[0;32m      1\u001b[0m \u001b[1;31m# Generating predictions file that is going to be submitted to the competition\u001b[0m\u001b[1;33m\u001b[0m\u001b[1;33m\u001b[0m\u001b[1;33m\u001b[0m\u001b[0m\n\u001b[1;32m----> 2\u001b[1;33m \u001b[0mdf_submission\u001b[0m \u001b[1;33m=\u001b[0m \u001b[0mpd\u001b[0m\u001b[1;33m.\u001b[0m\u001b[0mread_csv\u001b[0m\u001b[1;33m(\u001b[0m\u001b[1;34m\"/kaggle/input/titanic/test.csv\"\u001b[0m\u001b[1;33m)\u001b[0m\u001b[1;33m\u001b[0m\u001b[1;33m\u001b[0m\u001b[0m\n\u001b[0m\u001b[0;32m      3\u001b[0m \u001b[1;33m\u001b[0m\u001b[0m\n\u001b[0;32m      4\u001b[0m \u001b[0mdf_submission\u001b[0m\u001b[1;33m[\u001b[0m\u001b[1;34m'Survived'\u001b[0m\u001b[1;33m]\u001b[0m \u001b[1;33m=\u001b[0m \u001b[0mtest_predictions\u001b[0m \u001b[1;31m# Adding a column with predicted values\u001b[0m\u001b[1;33m\u001b[0m\u001b[1;33m\u001b[0m\u001b[0m\n\u001b[0;32m      5\u001b[0m \u001b[1;33m\u001b[0m\u001b[0m\n",
      "\u001b[1;31mNameError\u001b[0m: name 'pd' is not defined"
     ]
    }
   ],
   "source": [
    "# Generating predictions file that is going to be submitted to the competition\n",
    "df_submission = pd.read_csv(\"/kaggle/input/titanic/test.csv\")\n",
    "\n",
    "df_submission['Survived'] = test_predictions # Adding a column with predicted values\n",
    "\n",
    "df_submission.drop(df_submission.columns.difference(['PassengerId', 'Survived']), axis=1, inplace=True) # Selecting only needed columns\n",
    "\n",
    "df_submission.head(10)"
   ]
  },
  {
   "cell_type": "code",
   "execution_count": null,
   "metadata": {},
   "outputs": [],
   "source": [
    "# Checking if the number of rows is OK (the file is expected to have 418 rows)\n",
    "df_submission.count()"
   ]
  },
  {
   "cell_type": "code",
   "execution_count": null,
   "metadata": {},
   "outputs": [],
   "source": [
    "# Writing submitions to CSV file\n",
    "df_submission.to_csv('submission.csv', index=False)"
   ]
  }
 ],
 "metadata": {
  "kernelspec": {
   "display_name": "Python 3",
   "language": "python",
   "name": "python3"
  },
  "language_info": {
   "codemirror_mode": {
    "name": "ipython",
    "version": 3
   },
   "file_extension": ".py",
   "mimetype": "text/x-python",
   "name": "python",
   "nbconvert_exporter": "python",
   "pygments_lexer": "ipython3",
   "version": "3.7.7"
  }
 },
 "nbformat": 4,
 "nbformat_minor": 4
}
